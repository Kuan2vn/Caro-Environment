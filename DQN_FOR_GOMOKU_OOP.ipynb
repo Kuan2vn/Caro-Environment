{
  "nbformat": 4,
  "nbformat_minor": 0,
  "metadata": {
    "colab": {
      "provenance": []
    },
    "kernelspec": {
      "name": "python3",
      "display_name": "Python 3"
    },
    "language_info": {
      "name": "python"
    },
    "accelerator": "GPU",
    "gpuClass": "standard"
  },
  "cells": [
    {
      "cell_type": "code",
      "source": [
        "!pip install pygame"
      ],
      "metadata": {
        "id": "78Y0Zwe2hWYm",
        "outputId": "14346da8-943e-4cd1-a1dc-10ba287a350f",
        "colab": {
          "base_uri": "https://localhost:8080/"
        }
      },
      "execution_count": null,
      "outputs": [
        {
          "output_type": "stream",
          "name": "stdout",
          "text": [
            "Looking in indexes: https://pypi.org/simple, https://us-python.pkg.dev/colab-wheels/public/simple/\n",
            "Collecting pygame\n",
            "  Downloading pygame-2.3.0-cp39-cp39-manylinux_2_17_x86_64.manylinux2014_x86_64.whl (13.8 MB)\n",
            "\u001b[2K     \u001b[90m━━━━━━━━━━━━━━━━━━━━━━━━━━━━━━━━━━━━━━━━\u001b[0m \u001b[32m13.8/13.8 MB\u001b[0m \u001b[31m51.9 MB/s\u001b[0m eta \u001b[36m0:00:00\u001b[0m\n",
            "\u001b[?25hInstalling collected packages: pygame\n",
            "Successfully installed pygame-2.3.0\n"
          ]
        }
      ]
    },
    {
      "cell_type": "markdown",
      "source": [
        "# GOMOKU ENVIRONMENT"
      ],
      "metadata": {
        "id": "NT1oeMGIRDZm"
      }
    },
    {
      "cell_type": "code",
      "execution_count": null,
      "metadata": {
        "colab": {
          "base_uri": "https://localhost:8080/"
        },
        "id": "ckc4cbDIhL9M",
        "outputId": "5626239f-b4e0-4d1e-c731-8bc3ca0d6f68"
      },
      "outputs": [
        {
          "output_type": "stream",
          "name": "stdout",
          "text": [
            "[[0 0 0 0 0]\n",
            " [0 0 0 0 0]\n",
            " [0 0 0 0 0]\n",
            " [0 0 0 0 0]\n",
            " [0 0 0 0 0]]\n"
          ]
        }
      ],
      "source": [
        "import itertools\n",
        "import pygame\n",
        "import random\n",
        "import numpy as np\n",
        "\n",
        "class GomokuPosition:\n",
        "    dirs = (\n",
        "        ((0, -1), (0, 1)), \n",
        "        ((1, 0), (-1, 0)),\n",
        "        ((1, 1), (-1, -1)),\n",
        "        ((1, -1), (-1, 1)),\n",
        "    )\n",
        "\n",
        "    def __init__(self, rows, cols, n_to_win, players=\"wb\", blank=\".\"):\n",
        "        self.ply = 0\n",
        "        self.rows = rows\n",
        "        self.cols = cols\n",
        "        self.last_move = None\n",
        "        self.n_to_win = n_to_win\n",
        "        self.boards = [[[0] * cols for _ in range(rows)] for i in range(2)]\n",
        "        self.players = players\n",
        "        self.blank = blank\n",
        "\n",
        "    def board(self, row=None, col=None):\n",
        "        if row is None and col is None:\n",
        "            return self.boards[self.ply&1]\n",
        "        elif col is None:\n",
        "            return self.boards[self.ply&1][row]\n",
        "\n",
        "        return self.boards[self.ply&1][row][col]\n",
        "\n",
        "    def move(self, row, col):\n",
        "        if self.in_bounds(row, col) and self.is_empty(row, col):\n",
        "            self.board(row)[col] = 1\n",
        "            self.ply += 1\n",
        "            self.last_move = row, col\n",
        "            return True\n",
        "\n",
        "        return False\n",
        "\n",
        "    def is_empty(self, row, col):\n",
        "        return not any(board[row][col] for board in self.boards)\n",
        "\n",
        "    def in_bounds(self, y, x):\n",
        "        return y >= 0 and y < self.rows and x >= 0 and x < self.cols\n",
        "\n",
        "    def count_from_last_move(self, dy, dx):\n",
        "        if not self.last_move:\n",
        "            return 0\n",
        "\n",
        "        last_board = self.boards[(self.ply-1)&1]\n",
        "        y, x = self.last_move\n",
        "        run = 0\n",
        "\n",
        "        while self.in_bounds(y, x) and last_board[y][x]:\n",
        "            run += 1\n",
        "            x += dx\n",
        "            y += dy\n",
        "        \n",
        "        return run\n",
        "\n",
        "    def just_won(self):\n",
        "        return self.ply >= self.n_to_win * 2 - 1 and any(\n",
        "            (self.count_from_last_move(*x) + \n",
        "             self.count_from_last_move(*y) - 1 >= self.n_to_win)\n",
        "            for x, y in self.dirs\n",
        "        )\n",
        "        \n",
        "    def is_draw(self):\n",
        "        return self.ply >= self.rows * self.cols and not self.just_won()\n",
        "\n",
        "    def last_player(self):\n",
        "        if self.ply < 1:\n",
        "            raise IndexError(\"no moves have been made\")\n",
        "\n",
        "        return self.players[(self.ply-1)&1]\n",
        "\n",
        "    def char_for_cell(self, row, col):\n",
        "        for i, char in enumerate(self.players):\n",
        "            if self.boards[i][row][col]:\n",
        "                # return char\n",
        "\n",
        "                if char == 'w':\n",
        "                  return 1\n",
        "                else:\n",
        "                  return -1\n",
        "        \n",
        "        # return self.blank\n",
        "        return 0\n",
        "\n",
        "    def to_grid(self):\n",
        "        return [\n",
        "            [self.char_for_cell(row, col) for col in range(self.cols)]\n",
        "            for row in range(self.rows)\n",
        "        ]\n",
        "\n",
        "    def __repr__(self):\n",
        "        return \"\\n\".join([\" \".join(row) for row in self.to_grid()])\n",
        "\n",
        "    def __str__(self):\n",
        "        return \"\\n\".join([\" \".join(row) for row in self.to_grid()])\n",
        "    \n",
        "\n",
        "    # NEW CODE\n",
        "\n",
        "\n",
        "\n",
        "# if __name__ == \"__main__\":\n",
        "#     pos = GomokuPosition(rows=4, cols=4, n_to_win=3)\n",
        "\n",
        "#     while not pos.just_won() and not pos.is_draw():self.boards\n",
        "#         print(pos, \"\\n\")\n",
        "\n",
        "#         try:\n",
        "#             if not pos.move(*map(int, input(\"[row col] :: \").split())):\n",
        "#                 print(\"try again\")\n",
        "#         except (ValueError, IndexError):\n",
        "#             print(\"try again\")\n",
        "\n",
        "#     print(pos, \"\\n\")\n",
        "        \n",
        "#     if pos.just_won():\n",
        "#         print(pos.last_player(), \"won\")\n",
        "#     else:\n",
        "#         print(\"draw\")\n",
        "\n",
        "\n",
        "\n",
        "class Colors:\n",
        "    BLACK = 0, 0, 0\n",
        "    WHITE = 255, 255, 255\n",
        "    BROWN = 205, 128, 0\n",
        "\n",
        "\n",
        "class Gomoku:\n",
        "    def __init__(\n",
        "        self,\n",
        "        size=60,\n",
        "        piece_size=20,\n",
        "        rows=15,\n",
        "        cols=15,\n",
        "        n_to_win=5,\n",
        "        caption=\"Gomoku\"\n",
        "    ):\n",
        "        self.rows = rows\n",
        "        self.cols = cols\n",
        "        self.w = rows * size\n",
        "        self.h = cols * size\n",
        "        self.size = size\n",
        "        self.piece_size = piece_size\n",
        "        self.half_size = size // 2\n",
        "        self.matrix = rows * cols\n",
        "\n",
        "        self.n_to_win = n_to_win\n",
        "\n",
        "        pygame.init()\n",
        "        # pygame.display.set_caption(caption)\n",
        "        # self.screen = pygame.display.set_mode((self.w, self.h))\n",
        "        # self.screen.fill(Colors.WHITE)\n",
        "        self.player_colors = {\"w\": Colors.WHITE, \"b\": Colors.BLACK}\n",
        "        self.player_names = {\"w\": \"White\", \"b\": \"Black\"}\n",
        "\n",
        "        self.reset()\n",
        "        # self.board = GomokuPosition(rows, cols, n_to_win)\n",
        "        # self.draw_board()\n",
        "\n",
        "    # FOR AI\n",
        "    def reset(self):\n",
        "        self.board = GomokuPosition(self.rows, self.cols, self.n_to_win)\n",
        "        self.draw_board()\n",
        "\n",
        "\n",
        "\n",
        "\n",
        "    #ENDS HERE\n",
        "\n",
        "\n",
        "    def row_lines(self):\n",
        "        half = self.half_size\n",
        "\n",
        "        for y in range(half, self.h - half + self.size, self.size):\n",
        "            yield (half, y), (self.w - half, y)\n",
        "\n",
        "    def col_lines(self):\n",
        "        half = self.half_size\n",
        "\n",
        "        for x in range(half, self.w - half + self.size, self.size):\n",
        "            yield (x, half), (x, self.h - half)\n",
        "        \n",
        "    def draw_background(self):\n",
        "        rect = pygame.Rect(0, 0, self.w, self.h)\n",
        "        # pygame.draw.rect(self.screen, Colors.BROWN, rect)\n",
        "\n",
        "    def draw_lines(self):\n",
        "        lines = itertools.chain(self.col_lines(), self.row_lines())\n",
        "\n",
        "        # for start, end in lines:\n",
        "        #     pygame.draw.line(\n",
        "        #         self.screen, \n",
        "        #         Colors.BLACK, \n",
        "        #         start, \n",
        "        #         end, \n",
        "        #         width=2\n",
        "        #     )\n",
        "\n",
        "    def draw_board(self):\n",
        "        self.draw_background()\n",
        "        self.draw_lines()\n",
        "        \n",
        "    def draw_piece(self, row, col):\n",
        "        player = self.board.last_player()\n",
        "        circle_pos = (\n",
        "           col * self.size + self.half_size, \n",
        "           row * self.size + self.half_size,\n",
        "        )\n",
        "        pygame.draw.circle(\n",
        "           self.screen, \n",
        "           self.player_colors[player], \n",
        "           circle_pos, \n",
        "           self.piece_size\n",
        "        )\n",
        "\n",
        "    def show_outcome(self):\n",
        "        player = self.player_names[self.board.last_player()]\n",
        "        msg = \"draw!\" if self.board.is_draw() else f\"{player} wins!\"\n",
        "        font_size = self.w // 10\n",
        "        font = pygame.font.Font(\"freesansbold.ttf\", font_size)\n",
        "        label = font.render(msg, True, Colors.WHITE, Colors.BLACK)\n",
        "        x = self.w // 2 - label.get_width() // 2\n",
        "        y = self.h // 2 - label.get_height() // 2\n",
        "        self.screen.blit(label, (x, y))\n",
        "\n",
        "    def exit_on_click(self):\n",
        "        while True:\n",
        "            for event in pygame.event.get():\n",
        "                if (event.type == pygame.QUIT or \n",
        "                        event.type == pygame.MOUSEBUTTONDOWN):\n",
        "                    pygame.quit()\n",
        "                    return\n",
        "\n",
        "    def make_move(self, x, y):\n",
        "        col = x // self.size\n",
        "        row = y // self.size\n",
        "        print(row,col)\n",
        "        if self.board.move(row, col):\n",
        "            self.draw_piece(row, col)\n",
        "        \n",
        "    def play(self):\n",
        "        pygame.time.Clock().tick(10)\n",
        "        # self.draw_board()\n",
        "        pygame.display.update()\n",
        "        while not self.board.just_won() and not self.board.is_draw():\n",
        "            for event in pygame.event.get():\n",
        "                if event.type == pygame.QUIT:\n",
        "                    pygame.quit()\n",
        "                    return\n",
        "                elif event.type == pygame.MOUSEBUTTONDOWN:\n",
        "                    self.make_move(*event.pos)\n",
        "                    pygame.display.update()                        \n",
        "                    print(self.board)\n",
        "                    print(self.board.last_player())\n",
        "                    print(self.board.just_won())\n",
        "\n",
        "        self.show_outcome()\n",
        "        pygame.display.update()\n",
        "        self.exit_on_click()\n",
        "\n",
        "    def play_step(self,act):\n",
        "          \n",
        "        # for event in pygame.event.get():\n",
        "        #     if event.type == pygame.QUIT:\n",
        "        #         pygame.quit()\n",
        "        #         return\n",
        "        \n",
        "        # TODO AI TURN\n",
        "        # if self.board.last_player() != ai:\n",
        "        # move        \n",
        "        # self.action(act)\n",
        "        \n",
        "        done = False\n",
        "        # reward = -1\n",
        "\n",
        "        x, y = act\n",
        "\n",
        "        # print(self.board.is_empty(x,y))\n",
        "\n",
        "        if self.board.is_empty(x,y):\n",
        "\n",
        "            self.action((x,y))\n",
        "            reward = -1\n",
        "\n",
        "        else:\n",
        "            reward = -20        \n",
        "\n",
        "        if self.board.just_won():\n",
        "            reward = 100\n",
        "            done = True\n",
        "\n",
        "        if self.board.is_draw():\n",
        "            reward = 0\n",
        "            done = True\n",
        "\n",
        "        return reward, done\n",
        "\n",
        "    def Board(self):\n",
        "        return np.asarray(self.board.to_grid())\n",
        "\n",
        "    def action(self, act):\n",
        "        x, y = act\n",
        "        if self.board.move(x, y):\n",
        "            player = self.board.last_player()\n",
        "            circle_pos = (\n",
        "            y * self.size + self.half_size, \n",
        "            x * self.size + self.half_size,\n",
        "            )\n",
        "            # pygame.draw.circle(\n",
        "            # self.screen, \n",
        "            # self.player_colors[player], \n",
        "            # circle_pos, \n",
        "            # self.piece_size\n",
        "            # )\n",
        "\n",
        "        # self.make_move(x, y)\n",
        "\n",
        "    def index_2D_to_1D(self, act):\n",
        "      x, y = act\n",
        "      return y + self.cols*x\n",
        "      \n",
        "    def index_1D_to_2D(self, index):\n",
        "      y = index % self.cols\n",
        "      x = int(index / self.cols)\n",
        "\n",
        "      return x,y\n",
        "\n",
        "\n",
        "if __name__ == \"__main__\":\n",
        "    game = Gomoku(rows=5, cols=5, n_to_win=3)\n",
        "    # game.action(1,5)\n",
        "    # game.action(2,5)\n",
        "    # game.action(1,4)\n",
        "    # game.action(2,4)\n",
        "    # game.action(1,3)\n",
        "    # game.action(2,3)\n",
        "    # game.reset()\n",
        "    print(game.Board())\n",
        "    # game.play()"
      ]
    },
    {
      "cell_type": "code",
      "source": [
        "# print(game.play_step((3,4)))\n",
        "# print(game.play_step((2,4)))\n",
        "# print(game.Board())\n",
        "random.randint(1,3)"
      ],
      "metadata": {
        "colab": {
          "base_uri": "https://localhost:8080/"
        },
        "id": "1-LcSyAHqsYE",
        "outputId": "329a6c9f-9490-4441-e6b9-12e13cf02e26"
      },
      "execution_count": null,
      "outputs": [
        {
          "output_type": "execute_result",
          "data": {
            "text/plain": [
              "2"
            ]
          },
          "metadata": {},
          "execution_count": 99
        }
      ]
    },
    {
      "cell_type": "code",
      "source": [
        "game.matrix"
      ],
      "metadata": {
        "colab": {
          "base_uri": "https://localhost:8080/"
        },
        "id": "pRu1GOq5oMsP",
        "outputId": "f87c971d-5ab6-483c-d984-5b661be442b8"
      },
      "execution_count": null,
      "outputs": [
        {
          "output_type": "execute_result",
          "data": {
            "text/plain": [
              "100"
            ]
          },
          "metadata": {},
          "execution_count": 3
        }
      ]
    },
    {
      "cell_type": "code",
      "source": [
        "# move = (9,9)\n",
        "\n",
        "a = game.Board()\n",
        "a[4][5] = 1\n",
        "print(a)\n",
        "\n",
        "a = a.flatten()\n",
        "print(a)\n",
        "print('i = ',np.argmax(a) )# 15\n",
        "\n",
        "i = game.index_2D_to_1D((4,5))\n",
        "print('ii = ',i)\n",
        "# i = 6 + game.cols*4\n",
        "\n",
        "x, y = game.index_1D_to_2D(i)\n",
        "# x = i % game.cols\n",
        "# y = int(i / game.cols)\n",
        "\n",
        "print(x,y)\n",
        "\n",
        "# game.action(move)\n",
        "# print(game.Board())\n",
        "\n",
        "# random.randint(0, game.cols)"
      ],
      "metadata": {
        "colab": {
          "base_uri": "https://localhost:8080/"
        },
        "id": "qS9gUY7ICMBu",
        "outputId": "cc9230a1-3f25-4bb7-9f4f-57794c28963c"
      },
      "execution_count": null,
      "outputs": [
        {
          "output_type": "stream",
          "name": "stdout",
          "text": [
            "[[0 0 0 0 0 0 0 0 0 0]\n",
            " [0 0 0 0 0 0 0 0 0 0]\n",
            " [0 0 0 0 0 0 0 0 0 0]\n",
            " [0 0 0 0 0 0 0 0 0 0]\n",
            " [0 0 0 0 0 1 0 0 0 0]\n",
            " [0 0 0 0 0 0 0 0 0 0]\n",
            " [0 0 0 0 0 0 0 0 0 0]\n",
            " [0 0 0 0 0 0 0 0 0 0]\n",
            " [0 0 0 0 0 0 0 0 0 0]\n",
            " [0 0 0 0 0 0 0 0 0 0]]\n",
            "[0 0 0 0 0 0 0 0 0 0 0 0 0 0 0 0 0 0 0 0 0 0 0 0 0 0 0 0 0 0 0 0 0 0 0 0 0\n",
            " 0 0 0 0 0 0 0 0 1 0 0 0 0 0 0 0 0 0 0 0 0 0 0 0 0 0 0 0 0 0 0 0 0 0 0 0 0\n",
            " 0 0 0 0 0 0 0 0 0 0 0 0 0 0 0 0 0 0 0 0 0 0 0 0 0 0]\n",
            "i =  45\n",
            "ii =  45\n",
            "4 5\n"
          ]
        }
      ]
    },
    {
      "cell_type": "code",
      "source": [
        "print(game.play_step((1,2)))\n",
        "print(np.asarray(game.Board()))\n"
      ],
      "metadata": {
        "id": "n0ZzT0mwhasb",
        "colab": {
          "base_uri": "https://localhost:8080/"
        },
        "outputId": "dd7417fa-825c-4dae-9077-4d635e0c7e24"
      },
      "execution_count": null,
      "outputs": [
        {
          "output_type": "stream",
          "name": "stdout",
          "text": [
            "True\n",
            "(-1, False)\n",
            "[[ 0  0  0  0  0  0  0  0  0  0]\n",
            " [ 0  0 -1  0  0  0  0  0  0  0]\n",
            " [ 0  0  0  0  0  0  0  0  0  0]\n",
            " [ 0  0  0  0  1  0  0  0  0  0]\n",
            " [ 0  0  0  0  0  0  0  0  0  0]\n",
            " [ 0  0  0  0  0  0  0  0  0  0]\n",
            " [ 0  0  0  0  0  0  0  0  0  0]\n",
            " [ 0  0  0  0  0  0  0  0  0  0]\n",
            " [ 0  0  0  0  0  0  0  0  0  0]\n",
            " [ 0  0  0  0  0  0  0  0  0  0]]\n"
          ]
        }
      ]
    },
    {
      "cell_type": "markdown",
      "source": [
        "# HELPER PLOT FUNCTION"
      ],
      "metadata": {
        "id": "p1M_FN3FRN6r"
      }
    },
    {
      "cell_type": "code",
      "source": [
        "import matplotlib.pyplot as plt\n",
        "from IPython import display\n",
        "\n",
        "plt.ion()\n",
        "\n",
        "def plot(scores, mean_scores):\n",
        "    display.clear_output(wait=True)\n",
        "    display.display(plt.gcf())\n",
        "    plt.clf()\n",
        "    plt.title('Training...')\n",
        "    plt.xlabel('Number of Games')\n",
        "    # plt.ylabel('Score')\n",
        "    plt.ylabel('Move Taken')\n",
        "    plt.plot(scores, label = 'Move taken/ game')\n",
        "    plt.plot(mean_scores, label = 'Average move taken/ game')\n",
        "\n",
        "\n",
        "    # plt.plot(reward, label = 'reward')\n",
        "\n",
        "\n",
        "    plt.ylim(ymin=0)\n",
        "    plt.legend()\n",
        "    plt.text(len(scores)-1, scores[-1], str(scores[-1]))\n",
        "    plt.text(len(mean_scores)-1, mean_scores[-1], str(mean_scores[-1]))\n",
        "\n",
        "    # plt.text(len(reward)-1, reward[-1], str(reward[-1]))\n",
        "\n",
        "    plt.show(block=False)\n",
        "    plt.pause(.1)"
      ],
      "metadata": {
        "id": "95Du2eRkHwi_"
      },
      "execution_count": null,
      "outputs": []
    },
    {
      "cell_type": "code",
      "source": [
        "a = np.linspace(1,100)\n",
        "b = np.linspace(1,10,100)\n",
        "c = np.linspace(1,20,100)\n",
        "plt.plot(a, label = 'a')\n",
        "plt.plot(b, label = 'b')\n",
        "plt.plot(c, label = 'c')\n",
        "plt.legend()"
      ],
      "metadata": {
        "colab": {
          "base_uri": "https://localhost:8080/",
          "height": 282
        },
        "id": "IfHU2wTtdh0P",
        "outputId": "2cfb528a-4849-4aaf-c7f1-8b6670762f13"
      },
      "execution_count": null,
      "outputs": [
        {
          "output_type": "execute_result",
          "data": {
            "text/plain": [
              "<matplotlib.legend.Legend at 0x7f0df6b49fa0>"
            ]
          },
          "metadata": {},
          "execution_count": 111
        },
        {
          "output_type": "display_data",
          "data": {
            "text/plain": [
              "<Figure size 432x288 with 1 Axes>"
            ],
            "image/png": "[encoded data removed]"
          },
          "metadata": {
            "needs_background": "light"
          }
        }
      ]
    },
    {
      "cell_type": "markdown",
      "source": [
        "# TRAINER FUNCTION"
      ],
      "metadata": {
        "id": "-JlmJYc_RTVp"
      }
    },
    {
      "cell_type": "code",
      "source": [
        "import torch\n",
        "import torch.nn as nn\n",
        "import torch.optim as optim\n",
        "import torch.nn.functional as F\n",
        "import os\n",
        "\n",
        "class Linear_QNet(nn.Module):\n",
        "    def __init__(self, input_size, hidden_size, output_size):\n",
        "        super().__init__()\n",
        "        self.linear1 = nn.Linear(input_size, hidden_size)\n",
        "        self.linear2 = nn.Linear(hidden_size, 128)\n",
        "        self.linear3 = nn.Linear(128,64)\n",
        "        self.linearOut = nn.Linear(64, output_size)\n",
        "\n",
        "    def forward(self, x):\n",
        "        x = F.relu(self.linear1(x))\n",
        "        x = F.relu(self.linear2(x))\n",
        "        x = F.relu(self.linear3(x))\n",
        "        x = self.linearOut(x)\n",
        "        return x\n",
        "\n",
        "    def save(self, file_name='model.pth'):\n",
        "        model_folder_path = './model'\n",
        "        if not os.path.exists(model_folder_path):\n",
        "            os.makedirs(model_folder_path)\n",
        "\n",
        "        file_name = os.path.join(model_folder_path, file_name)\n",
        "        torch.save(self.state_dict(), file_name)\n",
        "\n",
        "\n",
        "class QTrainer:\n",
        "    def __init__(self, model, lr, gamma):\n",
        "        self.lr = lr\n",
        "        self.gamma = gamma\n",
        "        self.model = model\n",
        "        self.optimizer = optim.Adam(model.parameters(), lr=self.lr)\n",
        "        self.criterion = nn.MSELoss()\n",
        "\n",
        "    def train_step(self, state, action, reward, next_state, done):\n",
        "        state = torch.tensor(state, dtype=torch.float)\n",
        "        next_state = torch.tensor(next_state, dtype=torch.float)\n",
        "        action = torch.tensor(action, dtype=torch.long)\n",
        "        reward = torch.tensor(reward, dtype=torch.float)\n",
        "        # (n, x)\n",
        "\n",
        "        if len(state.shape) == 1:\n",
        "            # (1, x)\n",
        "            state = torch.unsqueeze(state, 0)\n",
        "            next_state = torch.unsqueeze(next_state, 0)\n",
        "            action = torch.unsqueeze(action, 0)\n",
        "            reward = torch.unsqueeze(reward, 0)\n",
        "            done = (done, )\n",
        "\n",
        "        # 1: predicted Q values with current state\n",
        "        pred = self.model(state)\n",
        "\n",
        "        target = pred.clone()\n",
        "        for idx in range(len(done)):\n",
        "            Q_new = reward[idx]\n",
        "            if not done[idx]:\n",
        "                Q_new = reward[idx] + self.gamma * torch.max(self.model(next_state[idx]))\n",
        "\n",
        "            target[idx][torch.argmax(action[idx]).item()] = Q_new\n",
        "    \n",
        "        # 2: Q_new = r + y * max(next_predicted Q value) -> only do this if not done\n",
        "        # pred.clone()\n",
        "        # preds[argmax(action)] = Q_new\n",
        "        self.optimizer.zero_grad()\n",
        "        loss = self.criterion(target, pred)\n",
        "        loss.backward()\n",
        "\n",
        "        self.optimizer.step()"
      ],
      "metadata": {
        "id": "36fDZYI6QhXw"
      },
      "execution_count": null,
      "outputs": []
    },
    {
      "cell_type": "markdown",
      "source": [
        "# AGENT AI"
      ],
      "metadata": {
        "id": "F21f2xerRXYi"
      }
    },
    {
      "cell_type": "code",
      "source": [
        "import torch\n",
        "import random\n",
        "from collections import deque\n",
        "\n",
        "MAX_MEMORY = 100_000\n",
        "BATCH_SIZE = 1000\n",
        "LR = 0.001\n",
        "\n",
        "class Agent:\n",
        "\n",
        "    def __init__(self):\n",
        "        self.n_games = 0\n",
        "        self.epsilon = 0 # randomness\n",
        "        self.gamma = 0.9 # discount rate\n",
        "        self.memory = deque(maxlen=MAX_MEMORY) # popleft()\n",
        "        # self.model = Linear_QNet(11, 256, 3)\n",
        "        self.model = Linear_QNet(game.matrix, 256, game.matrix)\n",
        "        self.trainer = QTrainer(self.model, lr=LR, gamma=self.gamma)\n",
        "\n",
        "\n",
        "    def get_state(self, game):\n",
        "        state = game.Board()\n",
        "        state = state.reshape(-1)\n",
        "        return state\n",
        "\n",
        "    def remember(self, state, action, reward, next_state, done):\n",
        "        self.memory.append((state, action, reward, next_state, done)) # popleft if MAX_MEMORY is reached\n",
        "\n",
        "        if len(self.memory) > BATCH_SIZE:\n",
        "            mini_sample = random.sample(self.memory, BATCH_SIZE) # list of tuples\n",
        "        else:\n",
        "            mini_sample = self.memory\n",
        "\n",
        "        states, actions, rewards, next_states, dones = zip(*mini_sample)\n",
        "        self.trainer.train_step(states, actions, rewards, next_states, dones)\n",
        "        #for state, action, reward, nexrt_state, done in mini_sample:\n",
        "        #    self.trainer.train_step(state, action, reward, next_state, done)\n",
        "\n",
        "    def train_short_memory(self, state, action, reward, next_state, done):\n",
        "        self.trainer.train_step(state, action, reward, next_state, done)\n",
        "\n",
        "    def train_long_memory(self):\n",
        "        if len(self.memory) > BATCH_SIZE:\n",
        "            mini_sample = random.sample(self.memory, BATCH_SIZE) # list of tuples\n",
        "        else:\n",
        "            mini_sample = self.memory\n",
        "\n",
        "        states, actions, rewards, next_states, dones = zip(*mini_sample)\n",
        "        self.trainer.train_step(states, actions, rewards, next_states, dones)\n",
        "        #for state, action, reward, nexrt_state, done in mini_sample:\n",
        "        #    self.trainer.train_step(state, action, reward, next_state, done)        \n",
        "\n",
        "    def get_action(self, state):\n",
        "        # random moves: tradeoff exploration / exploitation\n",
        "        self.epsilon = 300 - self.n_games\n",
        "        final_move = (0,0)\n",
        "        if random.randint(0, 400) < self.epsilon:\n",
        "            x = random.randint(0, game.rows-1)\n",
        "            y = random.randint(0, game.cols-1)\n",
        "            final_move = (x,y)\n",
        "        else:\n",
        "            state0 = torch.tensor(state, dtype=torch.float)\n",
        "            print(state0.size)\n",
        "            prediction = self.model(state0)\n",
        "\n",
        "            #TODO \n",
        "\n",
        "            # x = random.randint(0, game.rows)\n",
        "            # y = random.randint(0, game.cols)\n",
        "            \n",
        "            i = torch.argmax(prediction).item() # action in 1D\n",
        "            x, y = game.index_1D_to_2D(i)       # convert to 2D\n",
        "            final_move = (x,y)\n",
        "\n",
        "        return final_move\n",
        "\n",
        "\n",
        "def train():\n",
        "    # plot_scores = []\n",
        "    # plot_mean_scores = []\n",
        "    # total_score = 0\n",
        "    record = 150\n",
        "    plot_reward = []\n",
        "    total_reward = 0\n",
        "\n",
        "    move_taken = 0\n",
        "    plot_move_taken = []\n",
        "    plot_average_move_taken = []\n",
        "    total_move_taken = 0\n",
        "    game = Gomoku(rows=5, cols=5, n_to_win=3)\n",
        "\n",
        "    agent = Agent()\n",
        "    while True:\n",
        "        # get old state\n",
        "        state_old = agent.get_state(game)\n",
        "        # print(state_old)\n",
        "\n",
        "        # get move\n",
        "        final_move = agent.get_action(state_old)\n",
        "\n",
        "        # perform move and get new state\n",
        "        # print(final_move)\n",
        "        reward, done = game.play_step(final_move)\n",
        "        state_new = agent.get_state(game)\n",
        "\n",
        "        # print Board\n",
        "        # print('\\n \\nLast board:')\n",
        "        # print(game.Board())\n",
        "\n",
        "        total_reward += reward\n",
        "\n",
        "        move_taken += 1\n",
        "\n",
        "        # train short memory\n",
        "        agent.train_short_memory(state_old, final_move, reward, state_new, done)\n",
        "\n",
        "        # remember\n",
        "        agent.remember(state_old, final_move, reward, state_new, done)\n",
        "\n",
        "        if done:\n",
        "            # train long memory, plot result\n",
        "            game.reset()\n",
        "            agent.n_games += 1\n",
        "            agent.train_long_memory()\n",
        "\n",
        "            if move_taken < record:\n",
        "                 record = move_taken\n",
        "                 agent.model.save()\n",
        "\n",
        "            # if agent.n_games % 40 == 0:\n",
        "            #   agent.model.save()\n",
        "\n",
        "            print('Game', agent.n_games)\n",
        "\n",
        "            # plot_scores.append(score)\n",
        "            # total_score += score\n",
        "            # mean_score = total_score / agent.n_games\n",
        "            # plot_mean_scores.append(mean_score)\n",
        "            # plot(plot_scores, plot_mean_scores)\n",
        "\n",
        "\n",
        "            # plot_reward.append(total_reward)\n",
        "            avg_reward = total_reward / agent.n_games\n",
        "\n",
        "            plot_move_taken.append(move_taken)\n",
        "            total_move_taken += move_taken\n",
        "            mean_move_taken = total_move_taken / agent.n_games\n",
        "            plot_average_move_taken.append(mean_move_taken)\n",
        "            plot(plot_move_taken, plot_average_move_taken)\n",
        "\n",
        "            print(avg_reward)\n",
        "\n",
        "            move_taken = 0\n",
        "\n",
        "\n",
        "            \n",
        "\n",
        "            \n",
        "            \n",
        "            \n",
        "            # plot(plot_reward)\n",
        "\n",
        "train()"
      ],
      "metadata": {
        "colab": {
          "base_uri": "https://localhost:8080/",
          "height": 1000
        },
        "id": "jlHQsNU98oo2",
        "outputId": "cd083833-6325-4136-eeee-00a6f2be152c"
      },
      "execution_count": null,
      "outputs": [
        {
          "output_type": "display_data",
          "data": {
            "text/plain": [
              "<Figure size 432x288 with 0 Axes>"
            ]
          },
          "metadata": {}
        },
        {
          "output_type": "display_data",
          "data": {
            "text/plain": [
              "<Figure size 432x288 with 1 Axes>"
            ],
            "image/png": "[encoded data removed]"
          },
          "metadata": {
            "needs_background": "light"
          }
        },
        {
          "output_type": "stream",
          "name": "stdout",
          "text": [
            "-409.9950738916256\n",
            "<built-in method size of Tensor object at 0x7f0df2f845e0>\n",
            "<built-in method size of Tensor object at 0x7f0df33f46d0>\n",
            "<built-in method size of Tensor object at 0x7f0df33f46d0>\n",
            "<built-in method size of Tensor object at 0x7f0df33f46d0>\n",
            "<built-in method size of Tensor object at 0x7f0df33f46d0>\n",
            "<built-in method size of Tensor object at 0x7f0df33f46d0>\n",
            "<built-in method size of Tensor object at 0x7f0df37fb220>\n",
            "<built-in method size of Tensor object at 0x7f0df37fb220>\n",
            "<built-in method size of Tensor object at 0x7f0df37fb220>\n",
            "<built-in method size of Tensor object at 0x7f0df33f46d0>\n",
            "<built-in method size of Tensor object at 0x7f0df34f3ae0>\n",
            "<built-in method size of Tensor object at 0x7f0df34f3ae0>\n",
            "<built-in method size of Tensor object at 0x7f0df3197310>\n",
            "<built-in method size of Tensor object at 0x7f0df3197310>\n",
            "<built-in method size of Tensor object at 0x7f0df362b4f0>\n",
            "<built-in method size of Tensor object at 0x7f0df362b4f0>\n",
            "<built-in method size of Tensor object at 0x7f0df34f3ae0>\n",
            "<built-in method size of Tensor object at 0x7f0df34f3ae0>\n",
            "<built-in method size of Tensor object at 0x7f0df39d07c0>\n",
            "<built-in method size of Tensor object at 0x7f0df34f3ae0>\n",
            "<built-in method size of Tensor object at 0x7f0df39d07c0>\n",
            "<built-in method size of Tensor object at 0x7f0df34f3ae0>\n",
            "<built-in method size of Tensor object at 0x7f0df34f3ae0>\n",
            "<built-in method size of Tensor object at 0x7f0df34f3ae0>\n",
            "<built-in method size of Tensor object at 0x7f0df34f3ae0>\n",
            "<built-in method size of Tensor object at 0x7f0df34f3ae0>\n",
            "<built-in method size of Tensor object at 0x7f0df34f3ae0>\n",
            "<built-in method size of Tensor object at 0x7f0df34f3ae0>\n",
            "<built-in method size of Tensor object at 0x7f0df34f3ae0>\n",
            "<built-in method size of Tensor object at 0x7f0df388fa40>\n",
            "<built-in method size of Tensor object at 0x7f0df388fa40>\n",
            "<built-in method size of Tensor object at 0x7f0df388fa40>\n",
            "<built-in method size of Tensor object at 0x7f0df3ad09a0>\n",
            "<built-in method size of Tensor object at 0x7f0df388fa40>\n",
            "<built-in method size of Tensor object at 0x7f0df388fa40>\n",
            "<built-in method size of Tensor object at 0x7f0df2fed360>\n",
            "<built-in method size of Tensor object at 0x7f0df332c400>\n",
            "<built-in method size of Tensor object at 0x7f0df332c400>\n",
            "<built-in method size of Tensor object at 0x7f0dfdeafe50>\n",
            "<built-in method size of Tensor object at 0x7f0df3b8e540>\n",
            "<built-in method size of Tensor object at 0x7f0df2fb4f90>\n",
            "<built-in method size of Tensor object at 0x7f0df34ff4a0>\n",
            "<built-in method size of Tensor object at 0x7f0df2f9ddb0>\n",
            "<built-in method size of Tensor object at 0x7f0dfdefd770>\n",
            "<built-in method size of Tensor object at 0x7f0dfdefd770>\n",
            "<built-in method size of Tensor object at 0x7f0df32ebb80>\n",
            "<built-in method size of Tensor object at 0x7f0df32ebb80>\n",
            "<built-in method size of Tensor object at 0x7f0df2fed360>\n",
            "<built-in method size of Tensor object at 0x7f0df2fed360>\n",
            "<built-in method size of Tensor object at 0x7f0df2fed360>\n",
            "<built-in method size of Tensor object at 0x7f0df2fed360>\n",
            "<built-in method size of Tensor object at 0x7f0df2fed360>\n",
            "<built-in method size of Tensor object at 0x7f0df2fed360>\n",
            "<built-in method size of Tensor object at 0x7f0df2fed360>\n",
            "<built-in method size of Tensor object at 0x7f0df2fed360>\n",
            "<built-in method size of Tensor object at 0x7f0df2fed360>\n",
            "<built-in method size of Tensor object at 0x7f0df2fed360>\n",
            "<built-in method size of Tensor object at 0x7f0df2fed360>\n",
            "<built-in method size of Tensor object at 0x7f0df2fed360>\n",
            "<built-in method size of Tensor object at 0x7f0df2fed360>\n",
            "<built-in method size of Tensor object at 0x7f0df2fed360>\n",
            "<built-in method size of Tensor object at 0x7f0df330ef40>\n",
            "<built-in method size of Tensor object at 0x7f0df2fed360>\n",
            "<built-in method size of Tensor object at 0x7f0df3cadf90>\n",
            "<built-in method size of Tensor object at 0x7f0df3cadf90>\n",
            "<built-in method size of Tensor object at 0x7f0df3cadf90>\n",
            "<built-in method size of Tensor object at 0x7f0df334e0e0>\n",
            "<built-in method size of Tensor object at 0x7f0df334e0e0>\n",
            "<built-in method size of Tensor object at 0x7f0df377ec70>\n",
            "<built-in method size of Tensor object at 0x7f0df377ec70>\n",
            "<built-in method size of Tensor object at 0x7f0df2f7cd10>\n",
            "<built-in method size of Tensor object at 0x7f0df37fb220>\n",
            "<built-in method size of Tensor object at 0x7f0df37fb220>\n",
            "<built-in method size of Tensor object at 0x7f0df377ec70>\n",
            "<built-in method size of Tensor object at 0x7f0df377ec70>\n",
            "<built-in method size of Tensor object at 0x7f0df377ec70>\n",
            "<built-in method size of Tensor object at 0x7f0df377ec70>\n",
            "<built-in method size of Tensor object at 0x7f0df334e0e0>\n",
            "<built-in method size of Tensor object at 0x7f0df32e8220>\n",
            "<built-in method size of Tensor object at 0x7f0df32e8220>\n",
            "<built-in method size of Tensor object at 0x7f0df32e8220>\n",
            "<built-in method size of Tensor object at 0x7f0df32e8220>\n",
            "<built-in method size of Tensor object at 0x7f0df32e8220>\n",
            "<built-in method size of Tensor object at 0x7f0df39d07c0>\n",
            "<built-in method size of Tensor object at 0x7f0df32e8220>\n",
            "<built-in method size of Tensor object at 0x7f0df376a180>\n",
            "<built-in method size of Tensor object at 0x7f0df39d07c0>\n",
            "<built-in method size of Tensor object at 0x7f0df334e0e0>\n",
            "<built-in method size of Tensor object at 0x7f0df334e0e0>\n",
            "<built-in method size of Tensor object at 0x7f0dfdeafe50>\n",
            "<built-in method size of Tensor object at 0x7f0df2fb4310>\n",
            "<built-in method size of Tensor object at 0x7f0df2fb4310>\n",
            "<built-in method size of Tensor object at 0x7f0df2fb4310>\n",
            "<built-in method size of Tensor object at 0x7f0df2fb4310>\n",
            "<built-in method size of Tensor object at 0x7f0df362b4f0>\n",
            "<built-in method size of Tensor object at 0x7f0df2fed360>\n",
            "<built-in method size of Tensor object at 0x7f0df2fed360>\n",
            "<built-in method size of Tensor object at 0x7f0df2fed360>\n",
            "<built-in method size of Tensor object at 0x7f0df2fed360>\n",
            "<built-in method size of Tensor object at 0x7f0df2fed360>\n",
            "<built-in method size of Tensor object at 0x7f0df2fed360>\n",
            "<built-in method size of Tensor object at 0x7f0df330ef40>\n",
            "<built-in method size of Tensor object at 0x7f0df330ef40>\n",
            "<built-in method size of Tensor object at 0x7f0df334e0e0>\n"
          ]
        }
      ]
    },
    {
      "cell_type": "code",
      "source": [
        "state = np.zeros(100).flatten()\n",
        "state = torch.tensor(state, dtype=torch.float)\n",
        "torch.unsqueeze(state, 0)"
      ],
      "metadata": {
        "id": "fxZU2kuMNXmP",
        "colab": {
          "base_uri": "https://localhost:8080/"
        },
        "outputId": "b262e9de-3093-40c4-e668-22625ba514a1"
      },
      "execution_count": null,
      "outputs": [
        {
          "output_type": "execute_result",
          "data": {
            "text/plain": [
              "tensor([[0., 0., 0., 0., 0., 0., 0., 0., 0., 0., 0., 0., 0., 0., 0., 0., 0., 0., 0., 0., 0., 0., 0., 0.,\n",
              "         0., 0., 0., 0., 0., 0., 0., 0., 0., 0., 0., 0., 0., 0., 0., 0., 0., 0., 0., 0., 0., 0., 0., 0.,\n",
              "         0., 0., 0., 0., 0., 0., 0., 0., 0., 0., 0., 0., 0., 0., 0., 0., 0., 0., 0., 0., 0., 0., 0., 0.,\n",
              "         0., 0., 0., 0., 0., 0., 0., 0., 0., 0., 0., 0., 0., 0., 0., 0., 0., 0., 0., 0., 0., 0., 0., 0.,\n",
              "         0., 0., 0., 0.]])"
            ]
          },
          "metadata": {},
          "execution_count": 13
        }
      ]
    },
    {
      "cell_type": "code",
      "source": [
        "agent = Agent()\n",
        "game = Gomoku(rows=10, cols=10, n_to_win=4)\n",
        "state_old = agent.get_state(game)\n",
        "game.matrix"
      ],
      "metadata": {
        "colab": {
          "base_uri": "https://localhost:8080/"
        },
        "id": "c-CKYAK6yW85",
        "outputId": "3f853d45-99c6-44bf-cfd4-998805c88905"
      },
      "execution_count": null,
      "outputs": [
        {
          "output_type": "execute_result",
          "data": {
            "text/plain": [
              "100"
            ]
          },
          "metadata": {},
          "execution_count": 44
        }
      ]
    },
    {
      "cell_type": "code",
      "source": [
        "model = Linear_QNet(game.matrix, 256, game.matrix)\n",
        "model.eval()"
      ],
      "metadata": {
        "colab": {
          "base_uri": "https://localhost:8080/"
        },
        "id": "9ikSYi_cwsom",
        "outputId": "4cffcd4e-49be-4474-bf65-1bd8cd2429b3"
      },
      "execution_count": null,
      "outputs": [
        {
          "output_type": "execute_result",
          "data": {
            "text/plain": [
              "Linear_QNet(\n",
              "  (linear1): Linear(in_features=100, out_features=256, bias=True)\n",
              "  (linear2): Linear(in_features=256, out_features=100, bias=True)\n",
              ")"
            ]
          },
          "metadata": {},
          "execution_count": 10
        }
      ]
    },
    {
      "cell_type": "code",
      "source": [
        "x = torch.randn((1, 100))"
      ],
      "metadata": {
        "id": "uyE6EW4cyeOL"
      },
      "execution_count": null,
      "outputs": []
    },
    {
      "cell_type": "code",
      "source": [
        "x.size()"
      ],
      "metadata": {
        "colab": {
          "base_uri": "https://localhost:8080/"
        },
        "id": "tYBdMFKDy0tz",
        "outputId": "9058dd62-3c15-4df2-c7ce-2af71ba0d568"
      },
      "execution_count": null,
      "outputs": [
        {
          "output_type": "execute_result",
          "data": {
            "text/plain": [
              "torch.Size([1, 100])"
            ]
          },
          "metadata": {},
          "execution_count": 17
        }
      ]
    },
    {
      "cell_type": "code",
      "source": [
        "model.forward(x)"
      ],
      "metadata": {
        "colab": {
          "base_uri": "https://localhost:8080/"
        },
        "id": "0qRMTgYEy2Ds",
        "outputId": "ac809df2-62fe-43eb-b1df-f860f09a469b"
      },
      "execution_count": null,
      "outputs": [
        {
          "output_type": "execute_result",
          "data": {
            "text/plain": [
              "tensor([[ 6.1479e-02,  2.3222e-01, -9.6386e-02,  2.7381e-01,  2.2843e-02,\n",
              "          9.1667e-02, -9.4727e-02,  1.6564e-01, -1.0345e-01,  1.1476e-01,\n",
              "         -8.2631e-02,  5.1924e-02,  3.5577e-01, -9.1791e-02, -1.9170e-02,\n",
              "          8.2385e-02, -6.2427e-02,  2.3907e-01, -2.3074e-03,  3.4585e-01,\n",
              "         -4.4027e-02, -5.2007e-04,  2.5336e-01, -3.2563e-01,  2.6584e-01,\n",
              "          1.3814e-02, -1.2119e-02, -8.5895e-02,  5.5795e-02, -3.5778e-01,\n",
              "          2.5350e-02,  3.1309e-03, -3.2794e-05,  9.2762e-02,  7.7153e-02,\n",
              "          1.3799e-01,  2.2865e-01, -1.9568e-01,  3.0605e-02,  1.1152e-02,\n",
              "          6.8755e-02, -1.1900e-01,  3.7784e-01,  5.9292e-02, -3.1069e-02,\n",
              "          3.6335e-02, -1.0900e-01,  3.3591e-01,  4.2358e-01,  3.3445e-01,\n",
              "          1.4074e-01,  2.3196e-01, -8.7072e-02,  6.1564e-02, -2.0861e-01,\n",
              "          1.0107e-02, -9.2543e-02,  2.6504e-01, -3.8647e-01,  1.2467e-01,\n",
              "         -1.3769e-01, -3.2973e-02,  1.8019e-01, -2.5623e-01,  2.3271e-01,\n",
              "         -6.2199e-02, -2.7142e-01, -9.3807e-02,  1.5602e-01, -4.0531e-01,\n",
              "          5.7934e-01,  9.5546e-02, -3.8283e-01, -5.5081e-02,  1.5062e-01,\n",
              "          2.0165e-01,  1.9647e-01,  1.1876e-02, -1.7873e-01,  1.8690e-01,\n",
              "         -1.0275e-01,  5.8407e-03,  2.1328e-02, -3.0547e-01, -5.7753e-02,\n",
              "          1.2078e-01, -1.9880e-01, -7.8272e-02,  2.5508e-01,  1.9980e-01,\n",
              "          3.0745e-01,  6.0138e-02, -7.6242e-02,  4.9158e-01,  2.7004e-01,\n",
              "          1.3753e-01, -3.1153e-01,  8.4654e-02, -1.8242e-01, -3.8705e-03]],\n",
              "       grad_fn=<AddmmBackward0>)"
            ]
          },
          "metadata": {},
          "execution_count": 18
        }
      ]
    },
    {
      "cell_type": "code",
      "source": [
        "y = model.forward(x)"
      ],
      "metadata": {
        "id": "XVm6YCcEy7f4"
      },
      "execution_count": null,
      "outputs": []
    },
    {
      "cell_type": "code",
      "source": [
        "y.size()"
      ],
      "metadata": {
        "colab": {
          "base_uri": "https://localhost:8080/"
        },
        "id": "xzv8DcUBzFYf",
        "outputId": "54f472d0-6871-4612-e877-13d6ac7d22ff"
      },
      "execution_count": null,
      "outputs": [
        {
          "output_type": "execute_result",
          "data": {
            "text/plain": [
              "torch.Size([1, 100])"
            ]
          },
          "metadata": {},
          "execution_count": 22
        }
      ]
    },
    {
      "cell_type": "code",
      "source": [],
      "metadata": {
        "colab": {
          "base_uri": "https://localhost:8080/"
        },
        "id": "FmGTWi0PzG0g",
        "outputId": "08cd71c8-e2d2-4a0e-ab0b-482eae2d678f"
      },
      "execution_count": null,
      "outputs": [
        {
          "output_type": "execute_result",
          "data": {
            "text/plain": [
              "tensor([[ 6.1479e-02,  2.3222e-01, -9.6386e-02,  2.7381e-01,  2.2843e-02,\n",
              "          9.1667e-02, -9.4727e-02,  1.6564e-01, -1.0345e-01,  1.1476e-01,\n",
              "         -8.2631e-02,  5.1924e-02,  3.5577e-01, -9.1791e-02, -1.9170e-02,\n",
              "          8.2385e-02, -6.2427e-02,  2.3907e-01, -2.3074e-03,  3.4585e-01,\n",
              "         -4.4027e-02, -5.2007e-04,  2.5336e-01, -3.2563e-01,  2.6584e-01,\n",
              "          1.3814e-02, -1.2119e-02, -8.5895e-02,  5.5795e-02, -3.5778e-01,\n",
              "          2.5350e-02,  3.1309e-03, -3.2794e-05,  9.2762e-02,  7.7153e-02,\n",
              "          1.3799e-01,  2.2865e-01, -1.9568e-01,  3.0605e-02,  1.1152e-02,\n",
              "          6.8755e-02, -1.1900e-01,  3.7784e-01,  5.9292e-02, -3.1069e-02,\n",
              "          3.6335e-02, -1.0900e-01,  3.3591e-01,  4.2358e-01,  3.3445e-01,\n",
              "          1.4074e-01,  2.3196e-01, -8.7072e-02,  6.1564e-02, -2.0861e-01,\n",
              "          1.0107e-02, -9.2543e-02,  2.6504e-01, -3.8647e-01,  1.2467e-01,\n",
              "         -1.3769e-01, -3.2973e-02,  1.8019e-01, -2.5623e-01,  2.3271e-01,\n",
              "         -6.2199e-02, -2.7142e-01, -9.3807e-02,  1.5602e-01, -4.0531e-01,\n",
              "          5.7934e-01,  9.5546e-02, -3.8283e-01, -5.5081e-02,  1.5062e-01,\n",
              "          2.0165e-01,  1.9647e-01,  1.1876e-02, -1.7873e-01,  1.8690e-01,\n",
              "         -1.0275e-01,  5.8407e-03,  2.1328e-02, -3.0547e-01, -5.7753e-02,\n",
              "          1.2078e-01, -1.9880e-01, -7.8272e-02,  2.5508e-01,  1.9980e-01,\n",
              "          3.0745e-01,  6.0138e-02, -7.6242e-02,  4.9158e-01,  2.7004e-01,\n",
              "          1.3753e-01, -3.1153e-01,  8.4654e-02, -1.8242e-01, -3.8705e-03]],\n",
              "       grad_fn=<AddmmBackward0>)"
            ]
          },
          "metadata": {},
          "execution_count": 21
        }
      ]
    },
    {
      "cell_type": "code",
      "source": [],
      "metadata": {
        "id": "gjMypCmRzdih",
        "colab": {
          "base_uri": "https://localhost:8080/"
        },
        "outputId": "dcf6cdd2-85d4-4ebb-aae9-e6b95e2865f3"
      },
      "execution_count": null,
      "outputs": [
        {
          "output_type": "execute_result",
          "data": {
            "text/plain": [
              "tensor(1.)"
            ]
          },
          "metadata": {},
          "execution_count": 38
        }
      ]
    }
  ]
}